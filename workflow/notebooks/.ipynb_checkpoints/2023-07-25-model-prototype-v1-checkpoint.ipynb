{
 "cells": [
  {
   "cell_type": "code",
   "execution_count": 113,
   "metadata": {},
   "outputs": [],
   "source": [
    "import numpy as np\n",
    "import pandas as pd\n",
    "import os\n",
    "from matplotlib import pyplot as plt\n",
    "import tensorflow.compat.v2 as tf\n",
    "tf.enable_v2_behavior()\n",
    "\n",
    "import time\n",
    "from tensorflow_probability.python.layers.distribution_layer import DistributionLambda\n",
    "from tensorflow_probability.python import layers as tfpl\n",
    "from tensorflow_probability.python import distributions as tfd\n",
    "import tensorflow_probability as tfp\n",
    "import tensorflow.keras as keras"
   ]
  },
  {
   "cell_type": "code",
   "execution_count": 109,
   "metadata": {},
   "outputs": [],
   "source": [
    "train_chr = \"chr17\"\n",
    "test_chr = \"chr19\""
   ]
  },
  {
   "cell_type": "code",
   "execution_count": 276,
   "metadata": {},
   "outputs": [],
   "source": [
    "def read_methy_data(ifile):\n",
    "    # ifile = \"../../data/bed-intervals/253.chr17.bed\"\n",
    "    methy_data = pd.read_table(\n",
    "        ifile,\n",
    "        names = ['chrom', 'start', 'end', 'strand', 'methylated', 'total']\n",
    "    )\n",
    "    \n",
    "    methy_data[\"locus\"] = methy_data[\"chrom\"] + \":\" + methy_data[\"start\"].astype(str) + \"-\" + + methy_data[\"end\"].astype(str)\n",
    "    \n",
    "    methy_data = methy_data.astype({ \n",
    "        'methylated': 'float32',\n",
    "        'total': 'float32'\n",
    "    })\n",
    "    \n",
    "    return(methy_data)\n",
    "\n",
    "\n",
    "def read_encoded_data(ifile):\n",
    "    # ifile = \"../../data/encodings/253.chr17.001.bed\"\n",
    "    encoded_data = pd.read_table(\n",
    "        ifile, \n",
    "        names = ['locus', 'A', 'C', 'G', 'T'],\n",
    "    )\n",
    "    \n",
    "    encoded_data = encoded_data.astype({\n",
    "        'locus': 'object', \n",
    "        'A': 'float32',\n",
    "        'C': 'float32',\n",
    "        'G': 'float32',\n",
    "        'T': 'float32'\n",
    "    })\n",
    "\n",
    "    \n",
    "    return(encoded_data)\n",
    "\n",
    "def merge_and_separate(methy_data, encoded_data):\n",
    "    full_dataset = encoded_data.merge(methy_data, on = \"locus\")\n",
    "    \n",
    "    \n",
    "    \n",
    "    X = tf.reshape(\n",
    "        tf.convert_to_tensor(full_dataset[['A', 'C', 'G', 'T']]), \n",
    "        shape = [-1, 4, 1000]\n",
    "    )\n",
    "    \n",
    "    \n",
    "    # Keep the matrices in the right order\n",
    "    every_nth = list(range(full_dataset.shape[0]))[0::1000]\n",
    "    y = tf.convert_to_tensor(full_dataset[['methylated', 'total']].iloc[every_nth])\n",
    "    \n",
    "    return X, y\n"
   ]
  },
  {
   "cell_type": "code",
   "execution_count": 277,
   "metadata": {},
   "outputs": [],
   "source": [
    "class DataGenerator(tf.keras.utils.Sequence):\n",
    "    \n",
    "    def __init__(self, file_list, methy_data, output_size=(4, 1000), shuffle=False, batch_size=10000):\n",
    "    \n",
    "        self.file_list = file_list\n",
    "        self.methy_data = methy_data\n",
    "        self.output_size = output_size\n",
    "        self.shuffle = shuffle\n",
    "        self.batch_size = batch_size\n",
    "        self.on_epoch_end()\n",
    "    \n",
    "    \n",
    "    def __len__(self):\n",
    "        # Will want to infer the 10,000 constant?\n",
    "        return int(np.ceil(len(self.file_list) * 10000 / float(self.batch_size)))\n",
    "    \n",
    "    def __getitem__(self, idx):\n",
    "        \n",
    "        file_to_read = self.file_list[idx // 10000]\n",
    "        \n",
    "        # Load data\n",
    "        encoded_data = read_encoded_data(file_to_read)\n",
    "        X, y = merge_and_separate(self.methy_data, encoded_data)\n",
    "        \n",
    "        return(X, y)"
   ]
  },
  {
   "cell_type": "code",
   "execution_count": 278,
   "metadata": {},
   "outputs": [],
   "source": [
    "methy_data17 = read_methy_data(\"../../data/bed-intervals/253.chr17.bed\")\n",
    "methy_data19 = read_methy_data(\"../../data/bed-intervals/253.chr19.bed\")"
   ]
  },
  {
   "cell_type": "code",
   "execution_count": 279,
   "metadata": {},
   "outputs": [],
   "source": [
    "root_dir = \"../../data/encodings/\""
   ]
  },
  {
   "cell_type": "code",
   "execution_count": 280,
   "metadata": {},
   "outputs": [],
   "source": [
    "def get_random_files(root_dir, chrom, n):\n",
    "    # Needlessly complicated\n",
    "    file_list = [os.path.join(root_dir, x) for x in os.listdir(root_dir)]\n",
    "    \n",
    "    file_list_chrom = [x for x in file_list if chrom in x]\n",
    "\n",
    "    np.random.shuffle(file_list_chrom)\n",
    "    return(file_list_chrom[0:n])"
   ]
  },
  {
   "cell_type": "code",
   "execution_count": 281,
   "metadata": {},
   "outputs": [],
   "source": [
    "train_files = get_random_files(\"../../data/encodings/\", \"chr17\", 10)\n",
    "test_files = get_random_files(\"../../data/encodings/\", \"chr19\", 3)"
   ]
  },
  {
   "cell_type": "code",
   "execution_count": 282,
   "metadata": {},
   "outputs": [],
   "source": [
    "train_sequence = DataGenerator(train_files, methy_data17)\n",
    "test_sequence = DataGenerator(test_files, methy_data19)"
   ]
  },
  {
   "cell_type": "markdown",
   "metadata": {},
   "source": [
    "# Architecture\n",
    "\n",
    "- 3 convolutional layers, ReLU activation\n",
    "    - First layer should give PWM\n",
    "    - Other two should continue to compress\n",
    "    - \n",
    "- 2 Fully-connected (dense) layers\n"
   ]
  },
  {
   "cell_type": "code",
   "execution_count": 283,
   "metadata": {},
   "outputs": [],
   "source": [
    "def negative_binomial_layer(x):\n",
    "    # Get the number of dimensions of the input\n",
    "    num_dims = len(x.get_shape())\n",
    "    \n",
    "    # Separate the parameters\n",
    "    n, p = tf.unstack(x, num=2, axis=-1)\n",
    "        \n",
    "    # Apply a softplus to make positive\n",
    "    n = tf.keras.activations.softplus(tf.expand_dims(n, -1))\n",
    "    \n",
    "    # Apply a sigmoid activation to bound between 0 and 1\n",
    "    p = tf.keras.activations.sigmoid(tf.expand_dims(p, -1))\n",
    "\n",
    "    # Join back together again\n",
    "    out_tensor = tf.concat((n, p), axis=num_dims-1)\n",
    "\n",
    "    return out_tensor"
   ]
  },
  {
   "cell_type": "code",
   "execution_count": 284,
   "metadata": {},
   "outputs": [],
   "source": [
    "\n",
    "def negative_binomial_loss(y_true, y_pred):\n",
    "\n",
    "    # Separate the parameters\n",
    "    n, p = tf.unstack(y_pred, num=2, axis=-1)\n",
    "    \n",
    "    # Add one dimension to make the right shape\n",
    "    n = tf.expand_dims(n, -1)\n",
    "    p = tf.expand_dims(p, -1)\n",
    "    \n",
    "    # Calculate the negative log likelihood\n",
    "    nll = (\n",
    "        tf.math.lgamma(n) \n",
    "        + tf.math.lgamma(y_true + 1.0)\n",
    "        - tf.math.lgamma(n + y_true)\n",
    "        - n * tf.math.log(p)\n",
    "        - y_true * tf.math.log(1.0 - p)\n",
    "    )                  \n",
    "\n",
    "    return nll\n"
   ]
  },
  {
   "cell_type": "code",
   "execution_count": 285,
   "metadata": {},
   "outputs": [],
   "source": [
    "inputs = keras.Input(shape=(4, 1000, 1))\n",
    "\n",
    "# First convolutional layer doesn't compress too much\n",
    "# Filters are typically used for color channels, so we only need 1\n",
    "\n",
    "# Passing = same gives zero padding on edges\n",
    "x = keras.layers.Conv2D(filters = 1, kernel_size=(4,4), padding = \"same\", strides = 1)(inputs)\n",
    "\n",
    "# Second does a more aggressive convolution\n",
    "x = keras.layers.Conv2D(filters = 1, kernel_size=(4,4), padding = \"same\", strides = (2, 2))(x)\n",
    "\n",
    "x = keras.layers.Conv2D(filters = 1, kernel_size=(4,4), padding = \"same\", strides = (2, 2))(x)\n",
    "\n",
    "x = keras.layers.Flatten()(x)\n",
    "\n",
    "# Should still be shrinking\n",
    "x = keras.layers.Dense(16)(x)\n",
    "x = keras.layers.Dense(8)(x)\n",
    "\n",
    "x = keras.layers.Dense(2)(x)\n",
    "dist_outputs = tf.keras.layers.Lambda(negative_binomial_layer)(x)\n",
    "\n",
    "# total_reads = keras.layers.Dense(1, name = \"total_reads\", activation = tf.nn.sigmoid)(x)\n",
    "\n",
    "# methylated_prob = keras.layers.Dense(1, name = \"methylated_reads\")(x)\n",
    "\n",
    "\n",
    "# def customLoss(y_true, y_pred):\n",
    "#     return loss\n",
    "\n",
    "# outputs = tf.keras.layers.Concatenate()([methylated_reads, total_reads])\n",
    "\n",
    "model = keras.Model(inputs=inputs, outputs=dist_outputs, name=\"prototype\")\n",
    "\n"
   ]
  },
  {
   "cell_type": "code",
   "execution_count": 286,
   "metadata": {},
   "outputs": [
    {
     "name": "stdout",
     "output_type": "stream",
     "text": [
      "Model: \"prototype\"\n",
      "_________________________________________________________________\n",
      " Layer (type)                Output Shape              Param #   \n",
      "=================================================================\n",
      " input_14 (InputLayer)       [(None, 4, 1000, 1)]      0         \n",
      "                                                                 \n",
      " conv2d_39 (Conv2D)          (None, 4, 1000, 1)        17        \n",
      "                                                                 \n",
      " conv2d_40 (Conv2D)          (None, 2, 500, 1)         17        \n",
      "                                                                 \n",
      " conv2d_41 (Conv2D)          (None, 1, 250, 1)         17        \n",
      "                                                                 \n",
      " flatten_13 (Flatten)        (None, 250)               0         \n",
      "                                                                 \n",
      " dense_33 (Dense)            (None, 16)                4016      \n",
      "                                                                 \n",
      " dense_34 (Dense)            (None, 8)                 136       \n",
      "                                                                 \n",
      " dense_35 (Dense)            (None, 2)                 18        \n",
      "                                                                 \n",
      " lambda_7 (Lambda)           (None, 2)                 0         \n",
      "                                                                 \n",
      "=================================================================\n",
      "Total params: 4,221\n",
      "Trainable params: 4,221\n",
      "Non-trainable params: 0\n",
      "_________________________________________________________________\n"
     ]
    }
   ],
   "source": [
    "model.summary()"
   ]
  },
  {
   "cell_type": "markdown",
   "metadata": {},
   "source": [
    "Structure looks right. Now we'll make sure that we can pass the data through..."
   ]
  },
  {
   "cell_type": "code",
   "execution_count": 289,
   "metadata": {},
   "outputs": [],
   "source": [
    "model.compile(\n",
    "    loss = negative_binomial_loss,\n",
    "    optimizer=keras.optimizers.Adam(),\n",
    "    metrics=[negative_binomial_loss],\n",
    ")"
   ]
  },
  {
   "cell_type": "markdown",
   "metadata": {},
   "source": [
    "# Training \n",
    "\n",
    "We'll start by training on a small subset. \n",
    "\n",
    "We need to fix a few issues\n",
    "1. Why are the line counts not multiples of 1000?\n",
    "2. Reading thru multiple datasets. Consider using a generator.\n"
   ]
  },
  {
   "cell_type": "code",
   "execution_count": 290,
   "metadata": {},
   "outputs": [
    {
     "name": "stdout",
     "output_type": "stream",
     "text": [
      "Epoch 1/10\n"
     ]
    },
    {
     "name": "stderr",
     "output_type": "stream",
     "text": [
      "2023-07-27 06:41:42.272155: I tensorflow/core/common_runtime/executor.cc:1197] [/device:CPU:0] (DEBUG INFO) Executor start aborting (this does not indicate an error and you can ignore this message): INVALID_ARGUMENT: You must feed a value for placeholder tensor 'Placeholder/_0' with dtype int32\n",
      "\t [[{{node Placeholder/_0}}]]\n"
     ]
    },
    {
     "name": "stdout",
     "output_type": "stream",
     "text": [
      "10/10 [==============================] - 88s 9s/step - loss: 11.7438 - negative_binomial_loss: 11.7438\n",
      "Epoch 2/10\n",
      "10/10 [==============================] - 89s 9s/step - loss: 5.4940 - negative_binomial_loss: 5.4940\n",
      "Epoch 3/10\n",
      "10/10 [==============================] - 87s 8s/step - loss: 5.1831 - negative_binomial_loss: 5.1831\n",
      "Epoch 4/10\n",
      "10/10 [==============================] - 97s 10s/step - loss: 4.8887 - negative_binomial_loss: 4.8887\n",
      "Epoch 5/10\n",
      "10/10 [==============================] - 87s 8s/step - loss: 4.7113 - negative_binomial_loss: 4.7113\n",
      "Epoch 6/10\n",
      "10/10 [==============================] - 97s 9s/step - loss: 4.6613 - negative_binomial_loss: 4.6613\n",
      "Epoch 7/10\n",
      "10/10 [==============================] - 91s 9s/step - loss: 4.6051 - negative_binomial_loss: 4.6051\n",
      "Epoch 8/10\n",
      "10/10 [==============================] - 91s 9s/step - loss: 4.5718 - negative_binomial_loss: 4.5718\n",
      "Epoch 9/10\n",
      "10/10 [==============================] - 95s 9s/step - loss: 4.5443 - negative_binomial_loss: 4.5443\n",
      "Epoch 10/10\n",
      "10/10 [==============================] - 90s 9s/step - loss: 4.5196 - negative_binomial_loss: 4.5196\n"
     ]
    }
   ],
   "source": [
    "history = model.fit(train_sequence, epochs=10)"
   ]
  },
  {
   "cell_type": "code",
   "execution_count": 291,
   "metadata": {},
   "outputs": [
    {
     "data": {
      "text/plain": [
       "<keras.callbacks.History at 0x7ff206a03340>"
      ]
     },
     "execution_count": 291,
     "metadata": {},
     "output_type": "execute_result"
    }
   ],
   "source": [
    "history"
   ]
  },
  {
   "cell_type": "code",
   "execution_count": 292,
   "metadata": {},
   "outputs": [
    {
     "name": "stderr",
     "output_type": "stream",
     "text": [
      "2023-07-27 06:57:12.349964: I tensorflow/core/common_runtime/executor.cc:1197] [/device:CPU:0] (DEBUG INFO) Executor start aborting (this does not indicate an error and you can ignore this message): INVALID_ARGUMENT: You must feed a value for placeholder tensor 'Placeholder/_0' with dtype int32\n",
      "\t [[{{node Placeholder/_0}}]]\n"
     ]
    },
    {
     "name": "stdout",
     "output_type": "stream",
     "text": [
      "3/3 [==============================] - 23s 8s/step\n"
     ]
    }
   ],
   "source": [
    "test_preds = model.predict(test_sequence)"
   ]
  },
  {
   "cell_type": "code",
   "execution_count": 298,
   "metadata": {},
   "outputs": [
    {
     "data": {
      "text/plain": [
       "(array([2.7060e+03, 1.2252e+04, 9.8400e+03, 3.7740e+03, 1.1250e+03,\n",
       "        2.4000e+02, 4.5000e+01, 1.2000e+01, 3.0000e+00, 3.0000e+00]),\n",
       " array([0.01615603, 0.03389874, 0.05164146, 0.06938417, 0.08712688,\n",
       "        0.10486959, 0.1226123 , 0.14035501, 0.15809773, 0.17584044,\n",
       "        0.19358315]),\n",
       " <BarContainer object of 10 artists>)"
      ]
     },
     "execution_count": 298,
     "metadata": {},
     "output_type": "execute_result"
    },
    {
     "data": {
      "image/png": "[encoded data removed]",
      "text/plain": [
       "<Figure size 640x480 with 1 Axes>"
      ]
     },
     "metadata": {},
     "output_type": "display_data"
    }
   ],
   "source": [
    "plt.hist(test_preds[:, 1])"
   ]
  },
  {
   "cell_type": "code",
   "execution_count": 299,
   "metadata": {},
   "outputs": [],
   "source": [
    "test_y_true = []\n",
    "\n",
    "\n",
    "for X, y_true in test_sequence:\n",
    "    test_y_true.append(y_true)"
   ]
  },
  {
   "cell_type": "code",
   "execution_count": 300,
   "metadata": {},
   "outputs": [],
   "source": [
    "test_true = tf.concat(test_y_true, 0)"
   ]
  },
  {
   "cell_type": "code",
   "execution_count": 301,
   "metadata": {},
   "outputs": [
    {
     "data": {
      "text/plain": [
       "[<matplotlib.lines.Line2D at 0x7feda0c951b0>]"
      ]
     },
     "execution_count": 301,
     "metadata": {},
     "output_type": "execute_result"
    },
    {
     "data": {
      "image/png": "[encoded data removed]",
      "text/plain": [
       "<Figure size 640x480 with 1 Axes>"
      ]
     },
     "metadata": {},
     "output_type": "display_data"
    }
   ],
   "source": [
    "plt.plot(test_true[:, 0], test_preds[:, 0], 'bo')"
   ]
  },
  {
   "cell_type": "code",
   "execution_count": 302,
   "metadata": {},
   "outputs": [
    {
     "data": {
      "text/plain": [
       "(array([2.7060e+03, 1.2252e+04, 9.8400e+03, 3.7740e+03, 1.1250e+03,\n",
       "        2.4000e+02, 4.5000e+01, 1.2000e+01, 3.0000e+00, 3.0000e+00]),\n",
       " array([0.01615603, 0.03389874, 0.05164146, 0.06938417, 0.08712688,\n",
       "        0.10486959, 0.1226123 , 0.14035501, 0.15809773, 0.17584044,\n",
       "        0.19358315]),\n",
       " <BarContainer object of 10 artists>)"
      ]
     },
     "execution_count": 302,
     "metadata": {},
     "output_type": "execute_result"
    },
    {
     "data": {
      "image/png": "[encoded data removed]",
      "text/plain": [
       "<Figure size 640x480 with 1 Axes>"
      ]
     },
     "metadata": {},
     "output_type": "display_data"
    }
   ],
   "source": [
    "plt.hist(test_preds[:, 1])"
   ]
  },
  {
   "cell_type": "code",
   "execution_count": null,
   "metadata": {},
   "outputs": [],
   "source": []
  }
 ],
 "metadata": {
  "kernelspec": {
   "display_name": "Python [conda env:tf] *",
   "language": "python",
   "name": "conda-env-tf-py"
  },
  "language_info": {
   "codemirror_mode": {
    "name": "ipython",
    "version": 3
   },
   "file_extension": ".py",
   "mimetype": "text/x-python",
   "name": "python",
   "nbconvert_exporter": "python",
   "pygments_lexer": "ipython3",
   "version": "3.10.12"
  }
 },
 "nbformat": 4,
 "nbformat_minor": 2
}
