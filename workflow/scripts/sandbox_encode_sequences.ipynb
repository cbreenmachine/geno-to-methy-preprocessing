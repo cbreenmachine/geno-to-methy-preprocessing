{
 "cells": [
  {
   "cell_type": "code",
   "execution_count": 2,
   "metadata": {},
   "outputs": [],
   "source": [
    "import pandas as pd\n",
    "import numpy as np\n",
    "from fastparquet import write\n",
    "from Bio import SeqIO"
   ]
  },
  {
   "cell_type": "code",
   "execution_count": 3,
   "metadata": {},
   "outputs": [],
   "source": [
    "ifile = \"../../data/reference/by-chrom/chr14.fa\"\n",
    "snp_file = \"../../data/variant-calls/253.snps.vcf\""
   ]
  },
  {
   "cell_type": "code",
   "execution_count": 6,
   "metadata": {},
   "outputs": [
    {
     "ename": "AttributeError",
     "evalue": "module 'Bio.SeqIO' has no attribute 'to_list'",
     "output_type": "error",
     "traceback": [
      "\u001b[0;31m---------------------------------------------------------------------------\u001b[0m",
      "\u001b[0;31mAttributeError\u001b[0m                            Traceback (most recent call last)",
      "Cell \u001b[0;32mIn[6], line 1\u001b[0m\n\u001b[0;32m----> 1\u001b[0m seq_data \u001b[39m=\u001b[39m SeqIO\u001b[39m.\u001b[39mto_list(SeqIO\u001b[39m.\u001b[39mparse(\u001b[39mopen\u001b[39m(ifile), \u001b[39m'\u001b[39m\u001b[39mfasta\u001b[39m\u001b[39m'\u001b[39m))\n",
      "\u001b[0;31mAttributeError\u001b[0m: module 'Bio.SeqIO' has no attribute 'to_list'"
     ]
    }
   ],
   "source": [
    "seq_data = SeqIO.to_dict(SeqIO.parse(open(ifile), 'fasta'))"
   ]
  },
  {
   "cell_type": "code",
   "execution_count": 5,
   "metadata": {},
   "outputs": [
    {
     "data": {
      "text/plain": [
       "<Bio.SeqIO.FastaIO.FastaIterator at 0x174c3cdd0>"
      ]
     },
     "execution_count": 5,
     "metadata": {},
     "output_type": "execute_result"
    }
   ],
   "source": [
    "seq_data"
   ]
  },
  {
   "cell_type": "markdown",
   "metadata": {},
   "source": []
  },
  {
   "cell_type": "code",
   "execution_count": 3,
   "metadata": {},
   "outputs": [],
   "source": [
    "def read_vcf(ifile, chrom):\n",
    "    '''\n",
    "    Reads and extracts relevant information from VCF file\n",
    "    '''\n",
    "    # ifile = \"../../data/variant-calls/253.snps.vcf\"\n",
    "    df = pd.read_csv(ifile, \n",
    "                     sep='\\t', \n",
    "                     comment='#', \n",
    "                     header=None, \n",
    "                     usecols=[0, 1, 3, 4, 9],\n",
    "                     names=['chrom', 'pos', 'reference', 'alternate', 'extra_info']\n",
    "                     )\n",
    "    \n",
    "    # Filter to shrink the number of comparisons that need to be made\n",
    "    df = df.loc[df['chrom'] == chrom]\n",
    "    \n",
    "    # Pull out the SNP call\n",
    "    df['variant_call'] = df['extra_info'].str[:3]\n",
    "\n",
    "    # Get rid of Ns, indicate that ref homozygous\n",
    "    df = df[df['reference'].isin(['A', 'C', 'G', 'T'])]\n",
    "\n",
    "    # Makes iteration work\n",
    "    df = df.drop(columns=['extra_info'])\n",
    "    df = df.reset_index(drop=True)\n",
    "\n",
    "    return df\n"
   ]
  },
  {
   "cell_type": "code",
   "execution_count": 4,
   "metadata": {},
   "outputs": [],
   "source": [
    "snp_df = read_vcf(\"../../data/variant-calls/253.snps.vcf\", 'chr14')"
   ]
  },
  {
   "cell_type": "code",
   "execution_count": 5,
   "metadata": {},
   "outputs": [],
   "source": [
    "\n",
    "def encode_one_letter(x):\n",
    "\n",
    "    out = np.zeros((4,),dtype = 'float32')\n",
    "\n",
    "    if x == \"A\":\n",
    "        out[0] = 1\n",
    "    elif x == \"C\":\n",
    "        out[1] = 1\n",
    "    elif x == \"G\":\n",
    "        out[2] = 1\n",
    "    elif x == \"T\":\n",
    "        out[3] = 1\n",
    "    \n",
    "    return(out)\n",
    "\n",
    "def encode_snp(row):\n",
    "    '''\n",
    "    Given chrom\tpos\treference\talternate\tvariant_call\n",
    "    encode with fractionals\n",
    "    '''\n",
    "    ref, alt, vc = row['reference'], row['alternate'], row['variant_call']\n",
    "\n",
    "    if vc == \"0/1\":\n",
    "        output = (encode_one_letter(ref) + encode_one_letter(alt)) / 2\n",
    "    elif vc == \"1/1\":\n",
    "        output = encode_one_letter(alt)\n",
    "    elif vc == \"1/2\":\n",
    "        alt_split = alt.split(alt)\n",
    "        non_alt = np.setdiff1d(['A', 'C', 'G', 'T'], [ref])\n",
    "        # output = (encode_one_letter(minor2[0]) + encode_one_letter(minor2[1])) / 4 + encode_one_letter(alt) / 2\n",
    "        output = (encode_one_letter(non_alt[0]) + encode_one_letter(non_alt[1]) + encode_one_letter(non_alt[2])) / 3\n",
    "    return output"
   ]
  },
  {
   "cell_type": "code",
   "execution_count": 6,
   "metadata": {},
   "outputs": [],
   "source": [
    "def run_one_hot_encoder(sequence, snp_df):\n",
    "\n",
    "    l = len(sequence)\n",
    "    x = np.zeros((l, 4),dtype = 'float32')\n",
    "\n",
    "    # Remember that i starts at zero, \n",
    "    # whereas the positions in the VCF start at 1\n",
    "    for i, nt in enumerate(sequence):\n",
    "        # For position\n",
    "        p = i + 1\n",
    "\n",
    "        if p in snp_df.index:\n",
    "            x[i, :] = encode_snp(snp_df.loc[p])\n",
    "        else:\n",
    "            x[i, :] = encode_one_letter(nt)\n",
    "    return x"
   ]
  },
  {
   "cell_type": "code",
   "execution_count": 8,
   "metadata": {},
   "outputs": [],
   "source": [
    "out = run_one_hot_encoder(seq_data['chr14'], snp_df)"
   ]
  },
  {
   "cell_type": "code",
   "execution_count": 18,
   "metadata": {},
   "outputs": [
    {
     "data": {
      "text/plain": [
       "array([[1., 0., 0., 0.],\n",
       "       [1., 0., 0., 0.],\n",
       "       [0., 0., 0., 1.],\n",
       "       [0., 1., 0., 0.],\n",
       "       [0., 0., 1., 0.],\n",
       "       [0., 0., 0., 1.],\n",
       "       [0., 0., 0., 0.],\n",
       "       [1., 0., 0., 0.],\n",
       "       [0., 0., 0., 0.],\n",
       "       [0., 0., 0., 0.]], dtype=float32)"
      ]
     },
     "execution_count": 18,
     "metadata": {},
     "output_type": "execute_result"
    }
   ],
   "source": [
    "out[np.random.randint(out.shape[0], size=10), :]"
   ]
  },
  {
   "cell_type": "code",
   "execution_count": 19,
   "metadata": {},
   "outputs": [],
   "source": [
    "start = [x for x in range(out.shape[0])]"
   ]
  },
  {
   "cell_type": "code",
   "execution_count": 20,
   "metadata": {},
   "outputs": [],
   "source": [
    "out = pd.DataFrame(out, columns=['A','C', 'G', 'T'])\n"
   ]
  },
  {
   "cell_type": "code",
   "execution_count": 22,
   "metadata": {},
   "outputs": [],
   "source": [
    "out['chrom'] = 'chr14'\n",
    "out['start'] = start\n",
    "out['end'] = out['start'] + 1"
   ]
  },
  {
   "cell_type": "code",
   "execution_count": 26,
   "metadata": {},
   "outputs": [],
   "source": [
    "out = out[['chrom', 'start', 'end', 'A', 'C', 'G', 'T']]"
   ]
  },
  {
   "cell_type": "code",
   "execution_count": 27,
   "metadata": {},
   "outputs": [
    {
     "data": {
      "text/html": [
       "<div>\n",
       "<style scoped>\n",
       "    .dataframe tbody tr th:only-of-type {\n",
       "        vertical-align: middle;\n",
       "    }\n",
       "\n",
       "    .dataframe tbody tr th {\n",
       "        vertical-align: top;\n",
       "    }\n",
       "\n",
       "    .dataframe thead th {\n",
       "        text-align: right;\n",
       "    }\n",
       "</style>\n",
       "<table border=\"1\" class=\"dataframe\">\n",
       "  <thead>\n",
       "    <tr style=\"text-align: right;\">\n",
       "      <th></th>\n",
       "      <th>chrom</th>\n",
       "      <th>start</th>\n",
       "      <th>end</th>\n",
       "      <th>A</th>\n",
       "      <th>C</th>\n",
       "      <th>G</th>\n",
       "      <th>T</th>\n",
       "    </tr>\n",
       "  </thead>\n",
       "  <tbody>\n",
       "    <tr>\n",
       "      <th>0</th>\n",
       "      <td>chr14</td>\n",
       "      <td>0</td>\n",
       "      <td>1</td>\n",
       "      <td>0.0</td>\n",
       "      <td>0.5</td>\n",
       "      <td>0.5</td>\n",
       "      <td>0.0</td>\n",
       "    </tr>\n",
       "    <tr>\n",
       "      <th>1</th>\n",
       "      <td>chr14</td>\n",
       "      <td>1</td>\n",
       "      <td>2</td>\n",
       "      <td>0.0</td>\n",
       "      <td>0.0</td>\n",
       "      <td>0.5</td>\n",
       "      <td>0.5</td>\n",
       "    </tr>\n",
       "    <tr>\n",
       "      <th>2</th>\n",
       "      <td>chr14</td>\n",
       "      <td>2</td>\n",
       "      <td>3</td>\n",
       "      <td>0.5</td>\n",
       "      <td>0.5</td>\n",
       "      <td>0.0</td>\n",
       "      <td>0.0</td>\n",
       "    </tr>\n",
       "    <tr>\n",
       "      <th>3</th>\n",
       "      <td>chr14</td>\n",
       "      <td>3</td>\n",
       "      <td>4</td>\n",
       "      <td>0.0</td>\n",
       "      <td>0.5</td>\n",
       "      <td>0.5</td>\n",
       "      <td>0.0</td>\n",
       "    </tr>\n",
       "    <tr>\n",
       "      <th>4</th>\n",
       "      <td>chr14</td>\n",
       "      <td>4</td>\n",
       "      <td>5</td>\n",
       "      <td>0.0</td>\n",
       "      <td>0.0</td>\n",
       "      <td>1.0</td>\n",
       "      <td>0.0</td>\n",
       "    </tr>\n",
       "  </tbody>\n",
       "</table>\n",
       "</div>"
      ],
      "text/plain": [
       "   chrom  start  end    A    C    G    T\n",
       "0  chr14      0    1  0.0  0.5  0.5  0.0\n",
       "1  chr14      1    2  0.0  0.0  0.5  0.5\n",
       "2  chr14      2    3  0.5  0.5  0.0  0.0\n",
       "3  chr14      3    4  0.0  0.5  0.5  0.0\n",
       "4  chr14      4    5  0.0  0.0  1.0  0.0"
      ]
     },
     "execution_count": 27,
     "metadata": {},
     "output_type": "execute_result"
    }
   ],
   "source": [
    "out.head()"
   ]
  },
  {
   "cell_type": "code",
   "execution_count": 30,
   "metadata": {},
   "outputs": [],
   "source": [
    "out.to_csv(\"test.csv\")"
   ]
  },
  {
   "cell_type": "code",
   "execution_count": 3,
   "metadata": {},
   "outputs": [
    {
     "data": {
      "text/plain": [
       "'chr19'"
      ]
     },
     "execution_count": 3,
     "metadata": {},
     "output_type": "execute_result"
    }
   ],
   "source": [
    "a = \"../../data/reference/by-chrom/chr19.fa\"\n",
    "\n",
    "a.split(\"/\")[-1].split(\".\")[0]"
   ]
  },
  {
   "cell_type": "code",
   "execution_count": null,
   "metadata": {},
   "outputs": [],
   "source": []
  }
 ],
 "metadata": {
  "kernelspec": {
   "display_name": "dask",
   "language": "python",
   "name": "python3"
  },
  "language_info": {
   "codemirror_mode": {
    "name": "ipython",
    "version": 3
   },
   "file_extension": ".py",
   "mimetype": "text/x-python",
   "name": "python",
   "nbconvert_exporter": "python",
   "pygments_lexer": "ipython3",
   "version": "3.11.4"
  },
  "orig_nbformat": 4
 },
 "nbformat": 4,
 "nbformat_minor": 2
}
